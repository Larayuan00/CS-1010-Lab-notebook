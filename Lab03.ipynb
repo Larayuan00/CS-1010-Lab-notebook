{
  "cells": [
    {
      "cell_type": "markdown",
      "metadata": {
        "id": "view-in-github",
        "colab_type": "text"
      },
      "source": [
        "<a href=\"https://colab.research.google.com/github/Larayuan00/CS-1010-Lab-notebook/blob/main/Lab03.ipynb\" target=\"_parent\"><img src=\"https://colab.research.google.com/assets/colab-badge.svg\" alt=\"Open In Colab\"/></a>"
      ]
    },
    {
      "cell_type": "markdown",
      "metadata": {
        "id": "Lt92sp27GiVj"
      },
      "source": [
        "<a href=\"https://colab.research.google.com/github/LMU-CMSI-1010/lab-notebooks-original/blob/main/Lab03.ipynb\" target=\"_parent\"><img src=\"https://colab.research.google.com/assets/colab-badge.svg\" alt=\"Open In Colab\"/></a>"
      ]
    },
    {
      "cell_type": "markdown",
      "metadata": {
        "id": "9aXfrLXg9seM"
      },
      "source": [
        "# Lab 03 Heat-Check\n",
        "In this lab you will practice writing functions that print results to the user and that return values.\n",
        "\n",
        "## From Celsius to Fahrenheit\n",
        "\n",
        "In class we presented a function that, given a temperature in Celsius, will print the temperature in Fahrenheit. We include it below as an example that you will use for the next function.\n",
        "\n"
      ]
    },
    {
      "cell_type": "code",
      "execution_count": 1,
      "metadata": {
        "id": "Rt0kFDWS9RJU",
        "colab": {
          "base_uri": "https://localhost:8080/"
        },
        "outputId": "889644bc-8cd1-4774-ed8a-99b74e07342f"
      },
      "outputs": [
        {
          "output_type": "stream",
          "name": "stdout",
          "text": [
            "0.0 C == 32.0 F\n"
          ]
        }
      ],
      "source": [
        "def print_as_fahrenheit(c):\n",
        "    f = ((9.0 / 5.0) * c) + 32.0\n",
        "    print(c, 'C ==', f, 'F')\n",
        "\n",
        "\n",
        "print_as_fahrenheit(0.0)"
      ]
    },
    {
      "cell_type": "markdown",
      "metadata": {
        "id": "y2c-tRWA91fr"
      },
      "source": [
        "## From Fahrenheit to Celsius\n",
        "\n",
        "Using the function `print_as_fahrenheit` for how to make the conversion between Fahrenheit and Celsius, **write a function `print_as_celsius(f)`**. This function should take as input a temperature in Fahrenheit and print the temperature in Celsius. We have given an example of how it should be printed for the example above."
      ]
    },
    {
      "cell_type": "code",
      "execution_count": 2,
      "metadata": {
        "id": "NMcvm3E4-sl_",
        "colab": {
          "base_uri": "https://localhost:8080/"
        },
        "outputId": "086020d9-e77a-42f7-a939-a7c7db3aed2e"
      },
      "outputs": [
        {
          "output_type": "stream",
          "name": "stdout",
          "text": [
            "70 F == 6.89 C\n",
            "75 F == 9.67 C\n",
            "80 F == 12.44 C\n",
            "85 F == 15.22 C\n",
            "32.0 F == 0.0 C\n"
          ]
        }
      ],
      "source": [
        "# TODO: Write a function that, given a temperature in Fahrenheit, prints the\n",
        "# temperature in Celsius. The conversion is subtract 32, then multiply by 5/9.\n",
        "#\n",
        "# Call this function print_as_celsius().\n",
        "def print_as_celsius(f):\n",
        "  c = round((f * (5.0/9.0)) - 32.0,2)\n",
        "  print(f, \"F ==\" ,c, \"C\")\n",
        "\n",
        "print_as_celsius(70)\n",
        "print_as_celsius(75)\n",
        "print_as_celsius(80)\n",
        "print_as_celsius(85)\n",
        "\n",
        "print('32.0 F == 0.0 C') # This is sample output! Make sure to do this for real."
      ]
    },
    {
      "cell_type": "markdown",
      "metadata": {
        "id": "zXC7orYI_T3E"
      },
      "source": [
        "## Testing your code\n",
        "The following code will use the function provided to print the Celsius temperature in Fahrenheit and the function you have written to print the temperature in Fahrenheit in Celsius. **Test your code using the code below and add at least two more function calls to test your code.**"
      ]
    },
    {
      "cell_type": "code",
      "execution_count": 9,
      "metadata": {
        "id": "fpq9XjRC_TJG",
        "colab": {
          "base_uri": "https://localhost:8080/"
        },
        "outputId": "59a843f7-f93e-42f4-eb49-0b1515161197"
      },
      "outputs": [
        {
          "output_type": "stream",
          "name": "stdout",
          "text": [
            "37 C == 98.6 F\n",
            "98.6 F == 22.78 C\n"
          ]
        }
      ],
      "source": [
        "# This code will only work once you write your function above.\n",
        "# Check that the results are consistent.\n",
        "print_as_fahrenheit(37)\n",
        "print_as_celsius(98.6)\n",
        "\n",
        "# TODO: Can you add two more calls to your function to make sure that it\n",
        "# works properly?\n",
        "def print_as_fahrenheit(c):\n",
        "    f = round(((9.0 / 5.0) * c) + 32.0,2)\n",
        "    print(c, 'C ==', f, 'F')\n",
        "\n",
        "def print_as_celsius(f):\n",
        "  c = round((f * (5.0/9.0)) - 32.0,2)\n",
        "  print(f, \"F ==\" ,c, \"C\")"
      ]
    },
    {
      "cell_type": "markdown",
      "metadata": {
        "id": "FBvQb4tOArmq"
      },
      "source": [
        "## Converting from miles to meters\n",
        "In the following cell, **write a function called `miles_to_meters` that, given a number of miles, *returns* the number of meters**. Remember that one mile is 1.60934 kilometers and 1 kilometer is 1000 meters, so there are 1,609.34 meters in one mile."
      ]
    },
    {
      "cell_type": "code",
      "execution_count": null,
      "metadata": {
        "id": "gLFgAtynBorm"
      },
      "outputs": [],
      "source": [
        "# TODO: Write the function miles_to_meters.\n",
        "# - Single argument is a number of miles.\n",
        "# - Return value should be the number of meters.\n",
        "# - Nothing needs to be printed to the screen.\n",
        "# - We will test the code in the following cell.\n",
        "\n",
        "def miles_to_meters(mi)\n",
        "    m = round((mi * 1609.34), 2)\n",
        "    return m\n"
      ]
    },
    {
      "cell_type": "markdown",
      "metadata": {
        "id": "ILJ5Cy29CC68"
      },
      "source": [
        "## Testing the mile conversion\n",
        "In the following code we test your function. **You can modify this code or add more code to it to test your function.**"
      ]
    },
    {
      "cell_type": "code",
      "execution_count": 25,
      "metadata": {
        "id": "jvIpU4DECTli",
        "colab": {
          "base_uri": "https://localhost:8080/"
        },
        "outputId": "4cf42b2a-4cf1-42f3-d216-e4cbd6a08374"
      },
      "outputs": [
        {
          "output_type": "stream",
          "name": "stdout",
          "text": [
            "5 miles == 8046.7 meters\n"
          ]
        }
      ],
      "source": [
        "# TODO: Code in this cell will not work until you have written miles_to_meters\n",
        "def miles_to_meters(mile_test):\n",
        "    meter_test = mile_test * 1609.34\n",
        "    return meter_test\n",
        "\n",
        "mile_test = 5\n",
        "meter_test = miles_to_meters(mile_test)\n",
        "\n",
        "print(mile_test , 'miles ==', meter_test, 'meters')\n",
        "\n",
        "# We use this code to test your function. Do not modify these.\n",
        "assert(int(meter_test) == 8046)\n",
        "assert(int(miles_to_meters(1)) == 1609)"
      ]
    },
    {
      "cell_type": "markdown",
      "metadata": {
        "id": "tUJEMX4ZC_ka"
      },
      "source": [
        "## Calculating the total bill\n",
        "In the following cell **write a function, `calculate_total`, that receives as parameters a `price` (represented by a float) and a `percent` (represented as an integer) and returns the total price, including a percent increase as given by the `percent` parameter.**"
      ]
    },
    {
      "cell_type": "code",
      "execution_count": 34,
      "metadata": {
        "id": "OvRHXmU5EcOw"
      },
      "outputs": [],
      "source": [
        "# TODO: write calculate_total function\n",
        "# Parameters: float for price, integer for percent\n",
        "# Returns: float for total price with percent increase\n",
        "\n",
        "def calculate_total(price: float, percent: int):\n",
        "  increase = (percent / 100) * price\n",
        "  total_price:float = price + increase\n",
        "  return total_price\n",
        "\n"
      ]
    },
    {
      "cell_type": "markdown",
      "metadata": {
        "id": "uP31YvtMDvtM"
      },
      "source": [
        "## Testing the calculate function\n",
        "**Complete the following testing code as specified in the comments.**"
      ]
    },
    {
      "cell_type": "code",
      "execution_count": 37,
      "metadata": {
        "id": "zn6Si5SZP-lg",
        "colab": {
          "base_uri": "https://localhost:8080/"
        },
        "outputId": "62a8ef10-2a1a-455a-b2f1-d4b0f52c95b2"
      },
      "outputs": [
        {
          "output_type": "stream",
          "name": "stdout",
          "text": [
            "New Total == 91.7125\n"
          ]
        }
      ],
      "source": [
        "def calculate_total(test_price: float, test_percent: int):\n",
        "  increase = (test_percent / 100) * test_price\n",
        "  test_result = test_price + increase\n",
        "  return test_result\n",
        "\n",
        "# - TODO: Call your function on the test price and test percent and save the result\n",
        "#   to a new variable called test_result\n",
        "test_price = 79.75\n",
        "test_percent = 15\n",
        "test_result = calculate_total(test_price, test_percent)\n",
        "\n",
        "# - TODO: Print the new total\n",
        "print('New Total ==',test_result,)\n",
        "\n",
        "# We use this code to test your function. Do not modify these.\n",
        "assert(test_result == 91.7125)\n",
        "assert(calculate_total(30, 20) == 36.0)"
      ]
    },
    {
      "cell_type": "markdown",
      "metadata": {
        "id": "dKL0LYd-E4JB"
      },
      "source": [
        "### (Optional) Reflections\n",
        "Add a text cell below to answer the following questions:\n",
        "1. What do you feel more confident about after completing this lab?\n",
        "2. What do you feel you can use more help with after completing this lab?\n",
        "3. Do you have any constructive suggestions on how we can help you or improve this lab?"
      ]
    },
    {
      "cell_type": "markdown",
      "metadata": {
        "id": "gB1aHDpyFYey"
      },
      "source": [
        "### Save your work to GitHub\n",
        "Please save this notebook to your **lab repository** _LMU-CMSI-1010/lab-notebooks-YOURID_"
      ]
    }
  ],
  "metadata": {
    "kernelspec": {
      "display_name": "Python 3",
      "language": "python",
      "name": "python3"
    },
    "language_info": {
      "codemirror_mode": {
        "name": "ipython",
        "version": 3
      },
      "file_extension": ".py",
      "mimetype": "text/x-python",
      "name": "python",
      "nbconvert_exporter": "python",
      "pygments_lexer": "ipython3",
      "version": "3.8.5"
    },
    "colab": {
      "provenance": [],
      "include_colab_link": true
    }
  },
  "nbformat": 4,
  "nbformat_minor": 0
}